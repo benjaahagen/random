{
 "cells": [
  {
   "cell_type": "code",
   "execution_count": 2,
   "id": "2b41e42b",
   "metadata": {},
   "outputs": [
    {
     "name": "stdout",
     "output_type": "stream",
     "text": [
      "[19, 27, 27, 99, 30, 63, 96, 4, 82, 78]\n"
     ]
    }
   ],
   "source": [
    "import random\n",
    "\n",
    "class Class:\n",
    "    \n",
    "    #Generate a given amount of random numbers between a range of numbers.\n",
    "    def random_number_generator(amount, minRange, maxRange):\n",
    "\n",
    "        assert isinstance(amount, int) #Precondition 1 - amount shold be an integer.\n",
    "        assert minRange < maxRange #Precondition 1 - minRange should be less than maxRange.\n",
    "\n",
    "        random_numbers = []\n",
    "        for i in range(amount):\n",
    "            random_numbers.append(random.randint(minRange, maxRange))\n",
    "\n",
    "        assert len(random_numbers) == amount #Postcondition 1 - there should only be an expected amount of random numbers.\n",
    "        assert min(random_numbers) >= minRange and max(random_numbers) <= maxRange\n",
    "\n",
    "        return random_numbers\n",
    "\n",
    "x = Class.random_number_generator(10, 1, 100)\n",
    "print (x)"
   ]
  },
  {
   "cell_type": "code",
   "execution_count": null,
   "id": "ff78ee13",
   "metadata": {},
   "outputs": [],
   "source": []
  }
 ],
 "metadata": {
  "kernelspec": {
   "display_name": "Python 3 (ipykernel)",
   "language": "python",
   "name": "python3"
  },
  "language_info": {
   "codemirror_mode": {
    "name": "ipython",
    "version": 3
   },
   "file_extension": ".py",
   "mimetype": "text/x-python",
   "name": "python",
   "nbconvert_exporter": "python",
   "pygments_lexer": "ipython3",
   "version": "3.9.13"
  }
 },
 "nbformat": 4,
 "nbformat_minor": 5
}
